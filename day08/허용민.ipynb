{
 "cells": [
  {
   "cell_type": "markdown",
   "metadata": {},
   "source": [
    "## 1번 문제"
   ]
  },
  {
   "cell_type": "code",
   "execution_count": 4,
   "metadata": {},
   "outputs": [
    {
     "name": "stdout",
     "output_type": "stream",
     "text": [
      "30.959144000000002\n"
     ]
    }
   ],
   "source": [
    "# 1번 문제\n",
    "Radius = float(input('반지름 값 입력 --> \\n'))\n",
    "A = (Radius**2) * 3.14\n",
    "print(A)"
   ]
  },
  {
   "cell_type": "markdown",
   "metadata": {},
   "source": [
    "## 2번 문제"
   ]
  },
  {
   "cell_type": "code",
   "execution_count": 5,
   "metadata": {},
   "outputs": [
    {
     "name": "stdout",
     "output_type": "stream",
     "text": [
      "지구\n"
     ]
    }
   ],
   "source": [
    "# 2번 문제\n",
    "name = input('행성을 영어 이름으로 입력 --> ')\n",
    "\n",
    "planet = {'Mercury' : '수성',\n",
    "          'Venus' : '금성',\n",
    "          'Earth' : '지구',\n",
    "          'Mars' : '화성',\n",
    "          'Jupiter' : '목성',\n",
    "          'Saturn' : '토성',\n",
    "          'Uranus' : '천왕성',\n",
    "          'Neptune' : '해왕성'}\n",
    "\n",
    "print(planet.get(name))"
   ]
  },
  {
   "cell_type": "markdown",
   "metadata": {},
   "source": [
    "## 3번 문제"
   ]
  },
  {
   "cell_type": "code",
   "execution_count": 15,
   "metadata": {},
   "outputs": [
    {
     "name": "stdout",
     "output_type": "stream",
     "text": [
      "영어 문자열의 단어의 수 :  7\n",
      "변환값 :  i'm GOING to LEAVE the DOOR open \n"
     ]
    }
   ],
   "source": [
    "# 3번 문제\n",
    "def str(sentence):\n",
    "    words = sentence.split()\n",
    "    word_count = len(words)\n",
    "    print('영어 문자열의 단어의 수 : ', word_count)\n",
    "    \n",
    "    sentence = ''\n",
    "    for i in range(len(words)):\n",
    "        word = words[i]\n",
    "        if i % 2 != 0:\n",
    "            word = word.upper()\n",
    "        sentence += word + ' '\n",
    "    \n",
    "    print('변환값 : ', sentence)\n",
    "\n",
    "sentence = input('영어 문자열 입력 -->  ')\n",
    "str(sentence)"
   ]
  },
  {
   "cell_type": "markdown",
   "metadata": {},
   "source": [
    "## 4번 문제"
   ]
  },
  {
   "cell_type": "code",
   "execution_count": 12,
   "metadata": {},
   "outputs": [
    {
     "name": "stdout",
     "output_type": "stream",
     "text": [
      "웹사이트 주소 :  https://#www.google.com\n"
     ]
    }
   ],
   "source": [
    "# 4번 문제\n",
    "from urllib.request import Request\n",
    "\n",
    "def get_url(url_name):\n",
    "    return (f'#www.{url_name}.com')\n",
    "\n",
    "url_name = input('웹사이트 이름을 입력 --> : ')\n",
    "\n",
    "url = get_url(url_name)\n",
    "\n",
    "req = Request(f'https://{url}')\n",
    "\n",
    "\n",
    "print('웹사이트 주소 : ', req.full_url)"
   ]
  },
  {
   "cell_type": "markdown",
   "metadata": {},
   "source": [
    "## 5번 문제"
   ]
  },
  {
   "cell_type": "code",
   "execution_count": 11,
   "metadata": {},
   "outputs": [
    {
     "name": "stdout",
     "output_type": "stream",
     "text": [
      "3 6 9 12 15 18 21 24 27 "
     ]
    }
   ],
   "source": [
    "# 5번 문제\n",
    "number = int(input('숫자를 입력 --> '))\n",
    "\n",
    "for i in range(1, 9+1):\n",
    "    print(number * i, end= ' ')"
   ]
  }
 ],
 "metadata": {
  "kernelspec": {
   "display_name": "Python 3",
   "language": "python",
   "name": "python3"
  },
  "language_info": {
   "codemirror_mode": {
    "name": "ipython",
    "version": 3
   },
   "file_extension": ".py",
   "mimetype": "text/x-python",
   "name": "python",
   "nbconvert_exporter": "python",
   "pygments_lexer": "ipython3",
   "version": "3.11.5"
  }
 },
 "nbformat": 4,
 "nbformat_minor": 2
}
