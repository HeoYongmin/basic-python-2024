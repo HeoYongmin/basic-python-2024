{
 "cells": [
  {
   "cell_type": "markdown",
   "metadata": {},
   "source": [
    "## date : 20240207\n",
    "## desc : 코딩 테스트 1차"
   ]
  },
  {
   "cell_type": "markdown",
   "metadata": {},
   "source": [
    "## 1번 문제"
   ]
  },
  {
   "cell_type": "code",
   "execution_count": 2,
   "metadata": {},
   "outputs": [
    {
     "name": "stdout",
     "output_type": "stream",
     "text": [
      "원의 넓이는 78.53981633974483\n"
     ]
    }
   ],
   "source": [
    "# 1. 반지름 값을 입력받아 원의 넓이를 구하여 출력하는 프로그램을 구현하세요\n",
    "import math\n",
    "\n",
    "radius = int(input('반지름 입력'))\n",
    "print(f'원의 넓이는 {radius * radius * math.pi}')"
   ]
  },
  {
   "cell_type": "markdown",
   "metadata": {},
   "source": [
    "## 2번 문제"
   ]
  },
  {
   "cell_type": "code",
   "execution_count": 11,
   "metadata": {},
   "outputs": [
    {
     "name": "stdout",
     "output_type": "stream",
     "text": [
      "지구\n"
     ]
    }
   ],
   "source": [
    "# 2. 태양계는 수성, 금성, 지구, 화성, 목성, 토성, 천왕성, 해왕성으로 구성됩니다\n",
    "#     영어 이름은 Mercury, Venus, Earth, Mars, Jupiter,  Saturn, Uranus, Neptune 입니다.\n",
    "#     행성의 영어 이름을 입력하면 한글 행성 이름이 출력 되는 프로그램을 구현하세요.\n",
    "solar = {'Mercury' : '수성',\n",
    "          'Venus' : '금성',\n",
    "          'Earth' : '지구',\n",
    "          'Mars' : '화성',\n",
    "          'Jupiter' : '목성',\n",
    "          'Saturn' : '토성',\n",
    "          'Uranus' : '천왕성',\n",
    "          'Neptune' : '해왕성'}\n",
    "\n",
    "kname = input('행성이름(한글)입력 >')\n",
    "print(solar[kname])"
   ]
  },
  {
   "cell_type": "markdown",
   "metadata": {},
   "source": [
    "## 3번 문제"
   ]
  },
  {
   "cell_type": "code",
   "execution_count": 12,
   "metadata": {},
   "outputs": [
    {
     "name": "stdout",
     "output_type": "stream",
     "text": [
      "단어 수 : 7\n",
      "i'm GOING to LEAVE the DOOR open "
     ]
    }
   ],
   "source": [
    "# 3. 입력한 영어 문자열의 단어의 수를 출력하고 입력된 단어를 짝수로 대문자로 변경하여 출력하는 프로그램을 구현하세요. 예) I'm going to leave the door open = 7 / \n",
    "# I'm GOING to LEAVE the DOOR open\n",
    "sentence = input('영어 문장 입력 >')\n",
    "sentences = sentence.split(' ')\n",
    "print(f'단어 수 : {len(sentences)}')\n",
    "\n",
    "num = 1\n",
    "for i in sentences:\n",
    "    if (num % 2 == 0):\n",
    "        print(i.upper(), end= ' ')\n",
    "    else:\n",
    "        print(i, end= ' ')\n",
    "    num += 1"
   ]
  },
  {
   "cell_type": "markdown",
   "metadata": {},
   "source": [
    "## 4번 문제"
   ]
  },
  {
   "cell_type": "code",
   "execution_count": 10,
   "metadata": {},
   "outputs": [
    {
     "name": "stdout",
     "output_type": "stream",
     "text": [
      "www.naver.com\n"
     ]
    }
   ],
   "source": [
    "# 4. 영문이름을 입력하면 웹사이트 주소가 리턴되는 함수 get_url() 를  구현하세요.\n",
    "# 예) url = get_url('google') \n",
    "# print(url) # www.google.com\n",
    "def get_url(name):\n",
    "    return f'www.{name}.com'\n",
    "\n",
    "inname = input('웹사이트 이름 입력 >')\n",
    "url = get_url(inname)\n",
    "print(url)"
   ]
  },
  {
   "cell_type": "markdown",
   "metadata": {},
   "source": [
    "## 5번 문제"
   ]
  },
  {
   "cell_type": "code",
   "execution_count": 9,
   "metadata": {},
   "outputs": [
    {
     "name": "stdout",
     "output_type": "stream",
     "text": [
      "3 --> 3 6 9 12 15 18 21 24 27 "
     ]
    }
   ],
   "source": [
    "# 5. 구구단을 수행할 단번호를 입력하면 그 단의 9까지의 결과를 나열하는 프로그램을 입력하세요. 예) 3 --> 3 6 9 12 15 18 21 24 27\n",
    "dan_num = int(input('구구단 단번호 입력 > '))\n",
    "\n",
    "print(dan_num, end=' --> ')\n",
    "for i in range(1, 10):\n",
    "    print(dan_num * i, end=' ')"
   ]
  }
 ],
 "metadata": {
  "kernelspec": {
   "display_name": "Python 3",
   "language": "python",
   "name": "python3"
  },
  "language_info": {
   "codemirror_mode": {
    "name": "ipython",
    "version": 3
   },
   "file_extension": ".py",
   "mimetype": "text/x-python",
   "name": "python",
   "nbconvert_exporter": "python",
   "pygments_lexer": "ipython3",
   "version": "3.11.5"
  }
 },
 "nbformat": 4,
 "nbformat_minor": 2
}
